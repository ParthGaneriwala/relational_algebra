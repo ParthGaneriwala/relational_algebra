{
 "cells": [
  {
   "cell_type": "code",
   "execution_count": 4,
   "id": "ea0621c6",
   "metadata": {},
   "outputs": [
    {
     "name": "stdout",
     "output_type": "stream",
     "text": [
      "A  B  C  D  E  \n",
      "q  1  q  a  e  \n",
      "r  1  e  a  e  \n",
      "t  2  w  b  y  \n",
      "q  1  q  a  q  \n",
      "r  1  e  a  q  \n"
     ]
    }
   ],
   "source": [
    "import sys\n",
    "#sys.path.insert(1,\"/home/parthetic/Downloads/relational\")\n",
    "import parser\n",
    "from relation import Relation\n",
    "\n",
    "dataset_path = \"/home/parthetic/Downloads/relation/\"\n",
    "r_file= dataset_path + \"sample_r.csv\"\n",
    "s_file= dataset_path + \"sample_s.csv\"\n",
    "\n",
    "r = Relation.load_csv(r_file)\n",
    "s = Relation.load_csv(s_file)\n",
    "\n",
    "expr = parser.parse('r⋈s')\n",
    "result = expr({'r':r, 's':s})\n",
    "print(result)"
   ]
  },
  {
   "cell_type": "code",
   "execution_count": null,
   "id": "a82cea23",
   "metadata": {},
   "outputs": [],
   "source": []
  },
  {
   "cell_type": "code",
   "execution_count": null,
   "id": "476a4ceb",
   "metadata": {},
   "outputs": [],
   "source": []
  },
  {
   "cell_type": "code",
   "execution_count": null,
   "id": "b19e6e2a",
   "metadata": {},
   "outputs": [],
   "source": []
  },
  {
   "cell_type": "code",
   "execution_count": null,
   "id": "f904a8b1",
   "metadata": {},
   "outputs": [],
   "source": []
  }
 ],
 "metadata": {
  "kernelspec": {
   "display_name": "Python 3",
   "language": "python",
   "name": "python3"
  },
  "language_info": {
   "codemirror_mode": {
    "name": "ipython",
    "version": 3
   },
   "file_extension": ".py",
   "mimetype": "text/x-python",
   "name": "python",
   "nbconvert_exporter": "python",
   "pygments_lexer": "ipython3",
   "version": "3.8.8"
  }
 },
 "nbformat": 4,
 "nbformat_minor": 5
}
